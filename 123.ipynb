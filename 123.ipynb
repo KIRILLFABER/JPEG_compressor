{
 "cells": [
  {
   "cell_type": "code",
   "execution_count": 1,
   "id": "fd72f2a7-6ae3-469d-bda9-a7852e2a51ac",
   "metadata": {},
   "outputs": [],
   "source": [
    "from PIL import Image\n",
    "import func\n",
    "import jpegCompressor\n",
    "import numpy as np\n",
    "import matplotlib.pyplot as plt"
   ]
  },
  {
   "cell_type": "code",
   "execution_count": 25,
   "id": "3598ae58-f537-4cb6-8d65-96443c02e225",
   "metadata": {},
   "outputs": [
    {
     "data": {
      "text/plain": [
       "array([[164, 161, 161, ..., 100, 103, 103],\n",
       "       [165, 164, 162, ..., 110, 103, 103],\n",
       "       [161, 162, 164, ..., 108, 102, 104],\n",
       "       ...,\n",
       "       [168, 163, 159, ..., 100, 100, 105],\n",
       "       [164, 159, 159, ..., 103, 105,  99],\n",
       "       [162, 159, 159, ..., 100, 101,  97]], shape=(50, 50), dtype=uint8)"
      ]
     },
     "execution_count": 25,
     "metadata": {},
     "output_type": "execute_result"
    }
   ],
   "source": [
    "im = Image.open('./data/Lenna_GS.png')\n",
    "block = np.array(im)[50:100, 50:100]\n",
    "block"
   ]
  },
  {
   "cell_type": "code",
   "execution_count": 26,
   "id": "5815a4be-2bc5-48bd-8beb-2202769a4811",
   "metadata": {},
   "outputs": [],
   "source": [
    "block = Image.fromarray(block)\n",
    "block = block.convert('RGB')\n",
    "block = np.array(block)"
   ]
  },
  {
   "cell_type": "code",
   "execution_count": 22,
   "id": "d049717e-d164-452b-a946-5a994870ec80",
   "metadata": {},
   "outputs": [],
   "source": [
    "y, Cb, Cr = func.RGB_to_YCbCr(block)"
   ]
  },
  {
   "cell_type": "code",
   "execution_count": 27,
   "id": "760fa5a7-b965-4fdd-aff5-770be10c105a",
   "metadata": {},
   "outputs": [
    {
     "data": {
      "text/plain": [
       "array([[164, 161, 161, ..., 100, 103, 103],\n",
       "       [165, 164, 162, ..., 110, 103, 103],\n",
       "       [161, 162, 164, ..., 108, 102, 104],\n",
       "       ...,\n",
       "       [168, 163, 159, ..., 100, 100, 105],\n",
       "       [164, 159, 159, ..., 103, 105,  99],\n",
       "       [162, 159, 159, ..., 100, 101,  97]], shape=(50, 50), dtype=uint8)"
      ]
     },
     "execution_count": 27,
     "metadata": {},
     "output_type": "execute_result"
    }
   ],
   "source": [
    "y"
   ]
  },
  {
   "cell_type": "code",
   "execution_count": 23,
   "id": "d4da4a9c-37e0-489d-9978-2962ef602d3b",
   "metadata": {},
   "outputs": [
    {
     "data": {
      "text/plain": [
       "array([[128, 128, 128, ..., 128, 128, 128],\n",
       "       [128, 128, 128, ..., 128, 128, 128],\n",
       "       [128, 128, 128, ..., 128, 128, 128],\n",
       "       ...,\n",
       "       [128, 128, 128, ..., 128, 128, 128],\n",
       "       [128, 128, 128, ..., 128, 128, 128],\n",
       "       [128, 128, 128, ..., 128, 128, 128]], shape=(50, 50), dtype=uint8)"
      ]
     },
     "execution_count": 23,
     "metadata": {},
     "output_type": "execute_result"
    }
   ],
   "source": [
    "Cb\n"
   ]
  },
  {
   "cell_type": "code",
   "execution_count": 24,
   "id": "0a265e9e-d5d9-4688-b047-a6decd470618",
   "metadata": {},
   "outputs": [
    {
     "data": {
      "text/plain": [
       "array([[128, 128, 128, ..., 128, 128, 128],\n",
       "       [128, 128, 128, ..., 128, 128, 128],\n",
       "       [128, 128, 128, ..., 128, 128, 128],\n",
       "       ...,\n",
       "       [128, 128, 128, ..., 128, 128, 128],\n",
       "       [128, 128, 128, ..., 128, 128, 128],\n",
       "       [128, 128, 128, ..., 128, 128, 128]], shape=(50, 50), dtype=uint8)"
      ]
     },
     "execution_count": 24,
     "metadata": {},
     "output_type": "execute_result"
    }
   ],
   "source": [
    "Cr"
   ]
  },
  {
   "cell_type": "code",
   "execution_count": null,
   "id": "053c00f2-c76d-4b56-9395-39b82200efb8",
   "metadata": {},
   "outputs": [],
   "source": []
  }
 ],
 "metadata": {
  "kernelspec": {
   "display_name": "Python 3 (ipykernel)",
   "language": "python",
   "name": "python3"
  },
  "language_info": {
   "codemirror_mode": {
    "name": "ipython",
    "version": 3
   },
   "file_extension": ".py",
   "mimetype": "text/x-python",
   "name": "python",
   "nbconvert_exporter": "python",
   "pygments_lexer": "ipython3",
   "version": "3.13.1"
  }
 },
 "nbformat": 4,
 "nbformat_minor": 5
}
