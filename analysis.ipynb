{
 "cells": [
  {
   "cell_type": "code",
   "execution_count": 1,
   "id": "9afa2d2c-5b9e-495f-a92e-ed06f01a903d",
   "metadata": {},
   "outputs": [],
   "source": [
    "import numpy as np\n",
    "import matplotlib.pyplot as plt\n",
    "import jpegCompressor\n",
    "from PIL import Image"
   ]
  },
  {
   "cell_type": "code",
   "execution_count": null,
   "id": "1806fac3-ad7a-4668-935e-ba1638145406",
   "metadata": {},
   "outputs": [],
   "source": [
    "s = 'Lenna'\n",
    "path = './data/'\n",
    "img_name = np.array(path) + np.array(s) + np.array(['', '_GS', '_D', '_WD']) + np.array('.png')\n",
    "data = [np.array(Image.open(i)) for i in img_name]\n",
    "fig, ax = plt.subplots(4, )\n",
    "x = list(range(20, 100, 5))\n",
    "y = []\n",
    "for im in data:\n",
    "    for quality in range(20, 50, 40):\n",
    "        comp_data = jpegCompressor.compress(im, quality)\n",
    "        y.append(len(comp_data))\n",
    "    ax[1].plot(x, y)\n",
    "    y = []\n",
    "\n",
    "fig.show()\n",
    "        \n",
    "        "
   ]
  },
  {
   "cell_type": "code",
   "execution_count": null,
   "id": "b3d91295-47a8-41ee-a6d4-b0cac719a4a9",
   "metadata": {},
   "outputs": [],
   "source": []
  }
 ],
 "metadata": {
  "kernelspec": {
   "display_name": "Python 3 (ipykernel)",
   "language": "python",
   "name": "python3"
  },
  "language_info": {
   "codemirror_mode": {
    "name": "ipython",
    "version": 3
   },
   "file_extension": ".py",
   "mimetype": "text/x-python",
   "name": "python",
   "nbconvert_exporter": "python",
   "pygments_lexer": "ipython3",
   "version": "3.13.1"
  }
 },
 "nbformat": 4,
 "nbformat_minor": 5
}
